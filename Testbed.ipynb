{
 "cells": [
  {
   "cell_type": "code",
   "execution_count": 4,
   "id": "ae5ebb01",
   "metadata": {},
   "outputs": [],
   "source": [
    "from data_sources.local_ticker_data_source import LocalTickerDataSource\n",
    "import logging\n",
    "\n",
    "logging.basicConfig(level=logging.INFO,\n",
    "                    format='%(asctime)s - %(name)s - %(levelname)s -  %(funcName)s():%(lineno)d - %(message)s')\n",
    "\n",
    "logger = logging.getLogger(__name__)"
   ]
  },
  {
   "cell_type": "code",
   "execution_count": 5,
   "id": "06775d81",
   "metadata": {},
   "outputs": [],
   "source": [
    "data_source = LocalTickerDataSource()"
   ]
  },
  {
   "cell_type": "code",
   "execution_count": 6,
   "id": "c3246d08",
   "metadata": {},
   "outputs": [
    {
     "name": "stderr",
     "output_type": "stream",
     "text": [
      "2025-09-18 12:09:18,638 - __main__ - INFO -  <module>():17 - Fetching data from 2025-09-18 04:29:18.638031+00:00, 130, 2:10:00, 1m\n"
     ]
    }
   ],
   "source": [
    "from utils.intervals import get_interval_timedelta\n",
    "from datetime import datetime, timezone\n",
    "\n",
    "params = {}\n",
    "slowma = params.get(\"slowma\", 30)\n",
    "fastma = params.get(\"fastma\", 5)\n",
    "lookback = params.get(\"lookback\", 100)\n",
    "interval = '1m'\n",
    "\n",
    "min_candles = lookback + max(slowma, fastma)\n",
    "\n",
    "# ✅ calculate start_datetime based on interval + min_candles\n",
    "delta = get_interval_timedelta(interval) * min_candles\n",
    "\n",
    "start_datetime = datetime.now(timezone.utc) - delta\n",
    "\n",
    "logger.info(\n",
    "    f\"Fetching data from {start_datetime}, {min_candles}, {delta}, {interval}\")\n"
   ]
  },
  {
   "cell_type": "code",
   "execution_count": 16,
   "id": "473cd228",
   "metadata": {},
   "outputs": [
    {
     "name": "stderr",
     "output_type": "stream",
     "text": [
      "2025-09-18 12:48:56,698 - data_sources.local_ticker_data_source - INFO -  fetch_data():49 - Sending subscription request:http://localhost:9901/subscribe\n",
      "start_date_time=datetime.datetime(2025, 9, 18, 4, 29, 18, 638031, tzinfo=datetime.timezone.utc) end_date_time=datetime.datetime(2025, 9, 18, 7, 18, 56, 692541, tzinfo=datetime.timezone.utc) interval='1m' ticker='BTCUSD' callback_url=None \n",
      "2025-09-18 12:48:59,036 - data_sources.local_ticker_data_source - INFO -  fetch_data():83 - Received 168 historical candles\n"
     ]
    }
   ],
   "source": [
    "import pandas as pd\n",
    "ticker = \"BTCUSD\"\n",
    "\n",
    "df = data_source.fetch_data(\n",
    "    ticker=ticker,\n",
    "    interval=interval, start_datetime=start_datetime,\n",
    "    callback_url=None\n",
    ")"
   ]
  },
  {
   "cell_type": "code",
   "execution_count": 17,
   "id": "569e5d46",
   "metadata": {},
   "outputs": [
    {
     "data": {
      "text/html": [
       "<div>\n",
       "<style scoped>\n",
       "    .dataframe tbody tr th:only-of-type {\n",
       "        vertical-align: middle;\n",
       "    }\n",
       "\n",
       "    .dataframe tbody tr th {\n",
       "        vertical-align: top;\n",
       "    }\n",
       "\n",
       "    .dataframe thead th {\n",
       "        text-align: right;\n",
       "    }\n",
       "</style>\n",
       "<table border=\"1\" class=\"dataframe\">\n",
       "  <thead>\n",
       "    <tr style=\"text-align: right;\">\n",
       "      <th></th>\n",
       "      <th>Open</th>\n",
       "      <th>High</th>\n",
       "      <th>Low</th>\n",
       "      <th>Close</th>\n",
       "    </tr>\n",
       "    <tr>\n",
       "      <th>datetime</th>\n",
       "      <th></th>\n",
       "      <th></th>\n",
       "      <th></th>\n",
       "      <th></th>\n",
       "    </tr>\n",
       "  </thead>\n",
       "  <tbody>\n",
       "    <tr>\n",
       "      <th>2025-09-18 04:30:00+00:00</th>\n",
       "      <td>117341.5</td>\n",
       "      <td>117355.0</td>\n",
       "      <td>117321.0</td>\n",
       "      <td>117355.0</td>\n",
       "    </tr>\n",
       "    <tr>\n",
       "      <th>2025-09-18 04:31:00+00:00</th>\n",
       "      <td>117357.0</td>\n",
       "      <td>117421.5</td>\n",
       "      <td>117352.0</td>\n",
       "      <td>117370.0</td>\n",
       "    </tr>\n",
       "    <tr>\n",
       "      <th>2025-09-18 04:32:00+00:00</th>\n",
       "      <td>117371.0</td>\n",
       "      <td>117390.5</td>\n",
       "      <td>117359.5</td>\n",
       "      <td>117389.5</td>\n",
       "    </tr>\n",
       "    <tr>\n",
       "      <th>2025-09-18 04:33:00+00:00</th>\n",
       "      <td>117390.5</td>\n",
       "      <td>117406.5</td>\n",
       "      <td>117355.5</td>\n",
       "      <td>117391.0</td>\n",
       "    </tr>\n",
       "    <tr>\n",
       "      <th>2025-09-18 04:34:00+00:00</th>\n",
       "      <td>117391.0</td>\n",
       "      <td>117392.0</td>\n",
       "      <td>117308.0</td>\n",
       "      <td>117308.0</td>\n",
       "    </tr>\n",
       "    <tr>\n",
       "      <th>...</th>\n",
       "      <td>...</td>\n",
       "      <td>...</td>\n",
       "      <td>...</td>\n",
       "      <td>...</td>\n",
       "    </tr>\n",
       "    <tr>\n",
       "      <th>2025-09-18 07:13:00+00:00</th>\n",
       "      <td>117111.5</td>\n",
       "      <td>117140.5</td>\n",
       "      <td>117111.0</td>\n",
       "      <td>117128.5</td>\n",
       "    </tr>\n",
       "    <tr>\n",
       "      <th>2025-09-18 07:14:00+00:00</th>\n",
       "      <td>117128.5</td>\n",
       "      <td>117128.5</td>\n",
       "      <td>117114.5</td>\n",
       "      <td>117115.5</td>\n",
       "    </tr>\n",
       "    <tr>\n",
       "      <th>2025-09-18 07:15:00+00:00</th>\n",
       "      <td>117115.5</td>\n",
       "      <td>117127.5</td>\n",
       "      <td>117115.5</td>\n",
       "      <td>117126.5</td>\n",
       "    </tr>\n",
       "    <tr>\n",
       "      <th>2025-09-18 07:16:00+00:00</th>\n",
       "      <td>117127.5</td>\n",
       "      <td>117143.5</td>\n",
       "      <td>117108.0</td>\n",
       "      <td>117109.0</td>\n",
       "    </tr>\n",
       "    <tr>\n",
       "      <th>2025-09-18 07:17:00+00:00</th>\n",
       "      <td>117108.0</td>\n",
       "      <td>117122.0</td>\n",
       "      <td>117103.5</td>\n",
       "      <td>117121.0</td>\n",
       "    </tr>\n",
       "  </tbody>\n",
       "</table>\n",
       "<p>168 rows × 4 columns</p>\n",
       "</div>"
      ],
      "text/plain": [
       "                               Open      High       Low     Close\n",
       "datetime                                                         \n",
       "2025-09-18 04:30:00+00:00  117341.5  117355.0  117321.0  117355.0\n",
       "2025-09-18 04:31:00+00:00  117357.0  117421.5  117352.0  117370.0\n",
       "2025-09-18 04:32:00+00:00  117371.0  117390.5  117359.5  117389.5\n",
       "2025-09-18 04:33:00+00:00  117390.5  117406.5  117355.5  117391.0\n",
       "2025-09-18 04:34:00+00:00  117391.0  117392.0  117308.0  117308.0\n",
       "...                             ...       ...       ...       ...\n",
       "2025-09-18 07:13:00+00:00  117111.5  117140.5  117111.0  117128.5\n",
       "2025-09-18 07:14:00+00:00  117128.5  117128.5  117114.5  117115.5\n",
       "2025-09-18 07:15:00+00:00  117115.5  117127.5  117115.5  117126.5\n",
       "2025-09-18 07:16:00+00:00  117127.5  117143.5  117108.0  117109.0\n",
       "2025-09-18 07:17:00+00:00  117108.0  117122.0  117103.5  117121.0\n",
       "\n",
       "[168 rows x 4 columns]"
      ]
     },
     "execution_count": 17,
     "metadata": {},
     "output_type": "execute_result"
    }
   ],
   "source": [
    "df"
   ]
  },
  {
   "cell_type": "code",
   "execution_count": null,
   "id": "3c69ed4f",
   "metadata": {},
   "outputs": [],
   "source": []
  }
 ],
 "metadata": {
  "kernelspec": {
   "display_name": "automated_trading",
   "language": "python",
   "name": "python3"
  },
  "language_info": {
   "codemirror_mode": {
    "name": "ipython",
    "version": 3
   },
   "file_extension": ".py",
   "mimetype": "text/x-python",
   "name": "python",
   "nbconvert_exporter": "python",
   "pygments_lexer": "ipython3",
   "version": "3.12.10"
  }
 },
 "nbformat": 4,
 "nbformat_minor": 5
}
